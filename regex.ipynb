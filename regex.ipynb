{
 "cells": [
  {
   "cell_type": "raw",
   "id": "ac4fd408-aa5e-446e-9864-31413fde2431",
   "metadata": {},
   "source": [
    "import re"
   ]
  },
  {
   "cell_type": "code",
   "execution_count": 1,
   "id": "f208aa14-1783-4aba-a916-fa45c02f16bd",
   "metadata": {},
   "outputs": [],
   "source": [
    "import re"
   ]
  },
  {
   "cell_type": "code",
   "execution_count": 17,
   "id": "e7c6e975-f962-455e-8ec2-a247db2e026c",
   "metadata": {},
   "outputs": [],
   "source": [
    "chat1 = 'codebasics: you ask lot of questions  1235678912,abc@xyz.com order # 678904'\n",
    "chat2 = 'codebasics: here it is:  (123)-567-8912,abc_92@xyz.com'\n",
    "chat3 = 'codebasics: yes, phone  1235678912 email: abc@xyz.com'"
   ]
  },
  {
   "cell_type": "code",
   "execution_count": 18,
   "id": "c4cd364c-85be-4133-af3b-129e96c5eeb6",
   "metadata": {},
   "outputs": [
    {
     "name": "stderr",
     "output_type": "stream",
     "text": [
      "<>:1: SyntaxWarning: invalid escape sequence '\\('\n",
      "<>:1: SyntaxWarning: invalid escape sequence '\\('\n",
      "C:\\Users\\laasy\\AppData\\Local\\Temp\\ipykernel_2596\\993806260.py:1: SyntaxWarning: invalid escape sequence '\\('\n",
      "  pattern=\"\\(\\d{3}\\)-\\d{3}-\\d{4}|\\d{10}\"\n"
     ]
    },
    {
     "data": {
      "text/plain": [
       "['1235678912']"
      ]
     },
     "execution_count": 18,
     "metadata": {},
     "output_type": "execute_result"
    }
   ],
   "source": [
    "pattern=\"\\(\\d{3}\\)-\\d{3}-\\d{4}|\\d{10}\"\n",
    "phone=re.findall(pattern,chat1)\n",
    "phone"
   ]
  },
  {
   "cell_type": "code",
   "execution_count": 19,
   "id": "5089c68c-c836-463a-b3cf-c82f7d347f06",
   "metadata": {},
   "outputs": [
    {
     "name": "stderr",
     "output_type": "stream",
     "text": [
      "<>:1: SyntaxWarning: invalid escape sequence '\\.'\n",
      "<>:1: SyntaxWarning: invalid escape sequence '\\.'\n",
      "C:\\Users\\laasy\\AppData\\Local\\Temp\\ipykernel_2596\\3376154590.py:1: SyntaxWarning: invalid escape sequence '\\.'\n",
      "  PAT='[a-z0-9A-Z_]*@[a-z0-9A-Z_]*\\.com'\n"
     ]
    },
    {
     "data": {
      "text/plain": [
       "['abc_92@xyz.com']"
      ]
     },
     "execution_count": 19,
     "metadata": {},
     "output_type": "execute_result"
    }
   ],
   "source": [
    "PAT='[a-z0-9A-Z_]*@[a-z0-9A-Z_]*\\.com'\n",
    "mail=re.findall(PAT,chat2)\n",
    "mail"
   ]
  },
  {
   "cell_type": "code",
   "execution_count": 20,
   "id": "ac7c74d7-17b7-4e0c-b08d-50850e9b1645",
   "metadata": {},
   "outputs": [
    {
     "name": "stderr",
     "output_type": "stream",
     "text": [
      "<>:1: SyntaxWarning: invalid escape sequence '\\d'\n",
      "<>:1: SyntaxWarning: invalid escape sequence '\\d'\n",
      "C:\\Users\\laasy\\AppData\\Local\\Temp\\ipykernel_2596\\1427307576.py:1: SyntaxWarning: invalid escape sequence '\\d'\n",
      "  o='order[^\\d]*(\\d*)'\n"
     ]
    },
    {
     "data": {
      "text/plain": [
       "['678904']"
      ]
     },
     "execution_count": 20,
     "metadata": {},
     "output_type": "execute_result"
    }
   ],
   "source": [
    "o='order[^\\d]*(\\d*)'\n",
    "order=re.findall(o,chat1)\n",
    "order"
   ]
  },
  {
   "cell_type": "code",
   "execution_count": null,
   "id": "64406d79-4249-45be-9660-1cae30a3c51d",
   "metadata": {},
   "outputs": [],
   "source": []
  },
  {
   "cell_type": "code",
   "execution_count": null,
   "id": "89e59b09-5148-443a-9190-b118e7c98d7f",
   "metadata": {},
   "outputs": [],
   "source": []
  },
  {
   "cell_type": "code",
   "execution_count": 21,
   "id": "3d90ab8f-a28b-4060-b037-6ec78d0578af",
   "metadata": {},
   "outputs": [],
   "source": [
    "text='''\n",
    "Born\tElon Reeve Musk\n",
    "June 28, 1971 (age 50)\n",
    "Pretoria, Transvaal, South Africa\n",
    "Citizenship\t\n",
    "South Africa (1971–present)\n",
    "Canada (1971–present)\n",
    "United States (2002–present)\n",
    "Education\tUniversity of Pennsylvania (BS, BA)\n",
    "Title\t\n",
    "Founder, CEO and Chief Engineer of SpaceX\n",
    "CEO and product architect of Tesla, Inc.\n",
    "Founder of The Boring Company and X.com (now part of PayPal)\n",
    "Co-founder of Neuralink, OpenAI, and Zip2\n",
    "Spouse(s)\t\n",
    "Justine Wilson\n",
    "​\n",
    "​(m. 2000; div. 2008)​\n",
    "Talulah Riley\n",
    "​\n",
    "​(m. 2010; div. 2012)​\n",
    "​\n",
    "​(m. 2013; div. 2016)\n",
    "'''"
   ]
  },
  {
   "cell_type": "code",
   "execution_count": 25,
   "id": "92579047-8817-480c-bcb7-02239b5a7f4c",
   "metadata": {},
   "outputs": [
    {
     "name": "stderr",
     "output_type": "stream",
     "text": [
      "<>:1: SyntaxWarning: invalid escape sequence '\\d'\n",
      "<>:1: SyntaxWarning: invalid escape sequence '\\d'\n",
      "C:\\Users\\laasy\\AppData\\Local\\Temp\\ipykernel_2596\\802500516.py:1: SyntaxWarning: invalid escape sequence '\\d'\n",
      "  patt='age (\\d+)'\n"
     ]
    },
    {
     "data": {
      "text/plain": [
       "['50']"
      ]
     },
     "execution_count": 25,
     "metadata": {},
     "output_type": "execute_result"
    }
   ],
   "source": [
    "patt='age (\\d+)'\n",
    "age=re.findall(patt,text)\n",
    "age"
   ]
  },
  {
   "cell_type": "code",
   "execution_count": 30,
   "id": "3331a79a-e582-48b7-ba5f-236796910f72",
   "metadata": {},
   "outputs": [
    {
     "data": {
      "text/plain": [
       "'Elon Reeve Musk'"
      ]
     },
     "execution_count": 30,
     "metadata": {},
     "output_type": "execute_result"
    }
   ],
   "source": [
    "patt2='Born(.*)\\n'\n",
    "name=re.findall(patt2, text)\n",
    "name[0].strip()"
   ]
  },
  {
   "cell_type": "code",
   "execution_count": 32,
   "id": "62d3a650-1da0-4175-8752-ba83b3bcba14",
   "metadata": {},
   "outputs": [
    {
     "name": "stderr",
     "output_type": "stream",
     "text": [
      "<>:1: SyntaxWarning: invalid escape sequence '\\('\n",
      "<>:1: SyntaxWarning: invalid escape sequence '\\('\n",
      "C:\\Users\\laasy\\AppData\\Local\\Temp\\ipykernel_2596\\2601625898.py:1: SyntaxWarning: invalid escape sequence '\\('\n",
      "  patt3='Born.*\\n(.*)\\(age'\n"
     ]
    },
    {
     "data": {
      "text/plain": [
       "'June 28, 1971'"
      ]
     },
     "execution_count": 32,
     "metadata": {},
     "output_type": "execute_result"
    }
   ],
   "source": [
    "patt3='Born.*\\n(.*)\\(age'\n",
    "dob=re.findall(patt3, text)\n",
    "dob[0].strip()"
   ]
  },
  {
   "cell_type": "code",
   "execution_count": 33,
   "id": "7dd54997-4267-41c9-bfcc-d2d258a9c5fc",
   "metadata": {},
   "outputs": [
    {
     "name": "stderr",
     "output_type": "stream",
     "text": [
      "<>:1: SyntaxWarning: invalid escape sequence '\\('\n",
      "<>:1: SyntaxWarning: invalid escape sequence '\\('\n",
      "C:\\Users\\laasy\\AppData\\Local\\Temp\\ipykernel_2596\\2706106527.py:1: SyntaxWarning: invalid escape sequence '\\('\n",
      "  patt3='\\(age.*\\n(.*)'\n"
     ]
    },
    {
     "data": {
      "text/plain": [
       "'Pretoria, Transvaal, South Africa'"
      ]
     },
     "execution_count": 33,
     "metadata": {},
     "output_type": "execute_result"
    }
   ],
   "source": [
    "patt3='\\(age.*\\n(.*)'\n",
    "dob=re.findall(patt3, text)\n",
    "dob[0].strip()"
   ]
  },
  {
   "cell_type": "code",
   "execution_count": 37,
   "id": "c844f657-028c-4e61-b351-e8b1c15b6526",
   "metadata": {},
   "outputs": [],
   "source": [
    "def get_pattern_match(pattern, text):\n",
    "    matches=re.findall(pattern,text)\n",
    "    if matches:\n",
    "        return matches[0]"
   ]
  },
  {
   "cell_type": "code",
   "execution_count": 38,
   "id": "353b4fbb-c761-486d-9bf2-287d10c17dee",
   "metadata": {},
   "outputs": [
    {
     "name": "stderr",
     "output_type": "stream",
     "text": [
      "<>:1: SyntaxWarning: invalid escape sequence '\\('\n",
      "<>:1: SyntaxWarning: invalid escape sequence '\\('\n",
      "C:\\Users\\laasy\\AppData\\Local\\Temp\\ipykernel_2596\\859513544.py:1: SyntaxWarning: invalid escape sequence '\\('\n",
      "  get_pattern_match('\\(age.*\\n(.*)',text)\n"
     ]
    },
    {
     "data": {
      "text/plain": [
       "'Pretoria, Transvaal, South Africa'"
      ]
     },
     "execution_count": 38,
     "metadata": {},
     "output_type": "execute_result"
    }
   ],
   "source": [
    "get_pattern_match('\\(age.*\\n(.*)',text)"
   ]
  },
  {
   "cell_type": "code",
   "execution_count": 39,
   "id": "877a93d8-1fff-4a41-8f82-3d2d30e85908",
   "metadata": {},
   "outputs": [
    {
     "name": "stderr",
     "output_type": "stream",
     "text": [
      "<>:2: SyntaxWarning: invalid escape sequence '\\d'\n",
      "<>:4: SyntaxWarning: invalid escape sequence '\\('\n",
      "<>:5: SyntaxWarning: invalid escape sequence '\\('\n",
      "<>:2: SyntaxWarning: invalid escape sequence '\\d'\n",
      "<>:4: SyntaxWarning: invalid escape sequence '\\('\n",
      "<>:5: SyntaxWarning: invalid escape sequence '\\('\n",
      "C:\\Users\\laasy\\AppData\\Local\\Temp\\ipykernel_2596\\3478440766.py:2: SyntaxWarning: invalid escape sequence '\\d'\n",
      "  age = get_pattern_match('age (\\d+)', text)\n",
      "C:\\Users\\laasy\\AppData\\Local\\Temp\\ipykernel_2596\\3478440766.py:4: SyntaxWarning: invalid escape sequence '\\('\n",
      "  birth_date = get_pattern_match('Born.*\\n(.*)\\(age', text)\n",
      "C:\\Users\\laasy\\AppData\\Local\\Temp\\ipykernel_2596\\3478440766.py:5: SyntaxWarning: invalid escape sequence '\\('\n",
      "  birth_place = get_pattern_match('\\(age.*\\n(.*)', text)\n"
     ]
    },
    {
     "data": {
      "text/plain": [
       "{'age': 50,\n",
       " 'name': 'Elon Reeve Musk',\n",
       " 'birth_date': 'June 28, 1971',\n",
       " 'birth_place': 'Pretoria, Transvaal, South Africa'}"
      ]
     },
     "execution_count": 39,
     "metadata": {},
     "output_type": "execute_result"
    }
   ],
   "source": [
    "def extract_personal_information(text):\n",
    "    age = get_pattern_match('age (\\d+)', text)\n",
    "    full_name = get_pattern_match('Born(.*)\\n', text)\n",
    "    birth_date = get_pattern_match('Born.*\\n(.*)\\(age', text)\n",
    "    birth_place = get_pattern_match('\\(age.*\\n(.*)', text)\n",
    "    return {\n",
    "        'age': int(age),\n",
    "        'name': full_name.strip(),\n",
    "        'birth_date': birth_date.strip(),\n",
    "        'birth_place': birth_place.strip()\n",
    "    }\n",
    "extract_personal_information(text)\n"
   ]
  },
  {
   "cell_type": "code",
   "execution_count": null,
   "id": "167fcc5e-6405-4fe7-9860-30092d6919b0",
   "metadata": {},
   "outputs": [],
   "source": []
  }
 ],
 "metadata": {
  "kernelspec": {
   "display_name": "Python 3 (ipykernel)",
   "language": "python",
   "name": "python3"
  },
  "language_info": {
   "codemirror_mode": {
    "name": "ipython",
    "version": 3
   },
   "file_extension": ".py",
   "mimetype": "text/x-python",
   "name": "python",
   "nbconvert_exporter": "python",
   "pygments_lexer": "ipython3",
   "version": "3.12.4"
  }
 },
 "nbformat": 4,
 "nbformat_minor": 5
}
